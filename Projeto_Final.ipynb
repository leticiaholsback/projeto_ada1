{
  "nbformat": 4,
  "nbformat_minor": 0,
  "metadata": {
    "colab": {
      "provenance": [],
      "toc_visible": true,
      "include_colab_link": true
    },
    "kernelspec": {
      "name": "python3",
      "display_name": "Python 3"
    },
    "language_info": {
      "name": "python"
    }
  },
  "cells": [
    {
      "cell_type": "markdown",
      "metadata": {
        "id": "view-in-github",
        "colab_type": "text"
      },
      "source": [
        "<a href=\"https://colab.research.google.com/github/leticiaholsback/projeto_ada1/blob/main/Projeto_Final.ipynb\" target=\"_parent\"><img src=\"https://colab.research.google.com/assets/colab-badge.svg\" alt=\"Open In Colab\"/></a>"
      ]
    },
    {
      "cell_type": "markdown",
      "source": [
        "# **Sistema de Gestão de Restaurantes**\n",
        "\n",
        "\n",
        "Projeto realizado durante o módulo de Lógica de Programação I da ADA Tech pela seguinte equipe:\n",
        "\n",
        "- Equipe B\n",
        "  - Adriely Boller\n",
        "  - Amanda Souza\n",
        "  - Cristiane Rabelo\n",
        "  - Letícia Santos\n",
        "  - Ricardo Mazzeo\n",
        "\n",
        "\n",
        "> Finalizado em: Nov/2023"
      ],
      "metadata": {
        "id": "DURysbOkyCl_"
      }
    },
    {
      "cell_type": "markdown",
      "source": [
        "-----"
      ],
      "metadata": {
        "id": "BzzGe0WZ7JiQ"
      }
    },
    {
      "cell_type": "markdown",
      "source": [
        "## Função Principal"
      ],
      "metadata": {
        "id": "RgMkJSbJ0NSu"
      }
    },
    {
      "cell_type": "code",
      "source": [
        "def main():\n",
        "  \"\"\"\n",
        "  Função principal do código de gestão de restaurantes.\n",
        "  Dentro da função tem-se a inicialização das variável e o menu que opções principais\n",
        "  \"\"\"\n",
        "  print('...Iniciando Sistema de Gestão de Restaurantes')\n",
        "  print('Por aqui você pode gerir informações sobre restaurantes e cardápios')\n",
        "\n",
        "  # inicializando as listas\n",
        "  lista_restaurante = list()\n",
        "  lista_cardapio = list()\n",
        "\n",
        "  cabecalho_lista_restaurante = ['Nome', 'Endereço', 'Telefone', 'Tempo de Entrega (minutos)' ]\n",
        "  cabecalho_lista_cardapio    = ['Restaurante', 'Nome do Prato', 'Preço do Prato']\n",
        "\n",
        "  # adicionando os cabeçalhos nas listas\n",
        "  lista_restaurante.append(cabecalho_lista_restaurante)\n",
        "  lista_cardapio.append(cabecalho_lista_cardapio)\n",
        "\n",
        "  ######## apenas para testes\n",
        "  #lista_restaurante = [\n",
        "  #['Nome', 'Endereço', 'Telefone', 'Tempo de Entrega (minutos)' ],\n",
        "  #['Caluma', 'rua 33, número 120, vila sta cecilia', '(24) 3342-8261', 30],\n",
        "  #['Toca do Pintado', 'rua Dezenove-A, 278 - Bela Vista', '(24) 3212-3442', 55],\n",
        "  #['Brasador Steakhouse', 'rua Vinte e Um, 56 - Vila Santa Cecília', '(24) 3342-2511', 40],\n",
        "  #['Luso Brasileiro', 'Rua 14, 181 Em frente ao Pontual shopping - Vila Santa Cecília', '(24) 3342-0563', 25],\n",
        "  #['Alimentare', 'rua Sessenta e Dois, 193 - Sessenta, Volta Redonda', '(24) 3337-8487', 20]]\n",
        "\n",
        "  #lista_cardapio = [\n",
        "  #['Restaurante', 'Nome do Prato', 'Preço do Prato'],\n",
        "  #['Caluma', 'Empanado de peixe', 65.],\n",
        "  #['Luso Brasileiro', 'Dobradinha', 37],\n",
        "  #['Toca do Pintado', 'Moqueca', 129],\n",
        "  #['Alimentare', 'Marmitex P', 35],\n",
        "  #['Caluma', 'Caipirinha', 30.0],\n",
        "  #['Caluma', 'Polenta Frita', 32.60],\n",
        "  #['Alimentare', 'Marmitex G', 50],\n",
        "  #['Toca do Pintado', 'Filé à Parmegiana', 109]]\n",
        "  ########\n",
        "\n",
        "  pergunta = 'Deseja iniciar o sistema?[S]/[N]\\t'\n",
        "  resp_continuar = validacao_respostas(pergunta, ['S', 'N'])\n",
        "\n",
        "  while resp_continuar == 'S':\n",
        "    # Deixar a resposta como str ajuda o sistema não bugar caso o usuário\n",
        "        # digite uma ação inválida\n",
        "    pergunta = \"\"\"\n",
        "    Próxima Ação:\n",
        "      1 - Para abrir a Gestão de Restaurantes\n",
        "      2 - Para abrir a Gestão de Cardápios\n",
        "      3 - Sair do Sistema \\n\\t =>   \"\"\"\n",
        "    resp_restaurante_ou_cardapio =  validacao_respostas(pergunta, ['1','2','3'])\n",
        "    if resp_restaurante_ou_cardapio == '1':\n",
        "      #abrir a gestão de restaurante\n",
        "      print('- - - - -> Gestão de Restaurantes <- - - - -')\n",
        "      continua = 'S'\n",
        "      while continua == 'S':\n",
        "        lista_restaurante, lista_cardapio = gestao_restaurante(lista_restaurante, lista_cardapio)\n",
        "        # A função recebe e retorna a lista de restaurante e de cardápio\n",
        "          # atualizadas com as alterações realizadas dentro da função\n",
        "        pergunta = 'Deseja continuar na Gestão de Restaurante? [S]/[N]\\t'\n",
        "        continua = validacao_respostas(pergunta, ['S', 'N'])\n",
        "\n",
        "    elif resp_restaurante_ou_cardapio == '2':\n",
        "      print('- - - - -> Gestão de Cardápios <- - - - -')\n",
        "      continua = 'S'\n",
        "      if len(lista_restaurante) > 1: # só entra na gestão de cardápios se tiver restaurante cadastrado\n",
        "        while continua == 'S':\n",
        "          print('Informe o restaurante:\\t')\n",
        "          resp_restaurante = num_indice(lista_restaurante)\n",
        "          if resp_restaurante.isnumeric():\n",
        "            resp_restaurante = int(resp_restaurante)\n",
        "          gestao_cardapio(lista_restaurante[resp_restaurante][0], lista_cardapio)\n",
        "          pergunta = 'Deseja continuar na Gestão de Cardápios? [S]/[N]\\t'\n",
        "          continua = validacao_respostas(pergunta, ['S', 'N'])\n",
        "      else:\n",
        "        print('\\nNão há restaurante cadastrado para realizar a gestão de cardápios.\\n')\n",
        "\n",
        "    elif resp_restaurante_ou_cardapio == '3':\n",
        "      break # sai do while do sistema\n",
        "\n",
        "    pergunta = 'Deseja continuar no Sistema de Gerenciamento? [S]/[N]\\t'\n",
        "    resp_continuar = validacao_respostas(pergunta, ['S','N'])\n",
        "\n",
        "  print(\"\\n\\nSistema Encerrado.\")"
      ],
      "metadata": {
        "id": "SLlpWI6Y2MyK"
      },
      "execution_count": 3,
      "outputs": []
    },
    {
      "cell_type": "markdown",
      "source": [
        "## Funções:\n",
        "\n"
      ],
      "metadata": {
        "id": "lZ-rIlE_4vhr"
      }
    },
    {
      "cell_type": "markdown",
      "source": [
        "### Validação das Respostas"
      ],
      "metadata": {
        "id": "0Dil615j57EY"
      }
    },
    {
      "cell_type": "code",
      "source": [
        "def validacao_respostas(pergunta, respostas_validas):\n",
        "  \"\"\"\n",
        "  Validação de respostas. A função valida respostas de um caracter\n",
        "  É passado como parâmetro:\n",
        "    - A pergunta que se quer fazer (str)\n",
        "    - Uma lista com as respostas válidas\n",
        "\n",
        "  Caso o usuário digite algo diferente das respostas válidas,\n",
        "  a função repetirá a pergunta até que o usuário responda um valor válido.\n",
        "  E só retornará opções válidas de valores\n",
        "  \"\"\"\n",
        "  resp = input(pergunta).upper()[0]# apenas 1ªletra\n",
        "  while not resp in respostas_validas:\n",
        "    print(\"Resposta inválida!\")\n",
        "    resp = input(pergunta).upper()[0]# apenas 1ªletra\n",
        "  return resp"
      ],
      "metadata": {
        "id": "uDKcQDyC4JdA"
      },
      "execution_count": 4,
      "outputs": []
    },
    {
      "cell_type": "markdown",
      "source": [
        "### Função da Gestão de Restaurantes:"
      ],
      "metadata": {
        "id": "ZSJ46EeC5je7"
      }
    },
    {
      "cell_type": "code",
      "source": [
        "def gestao_restaurante(lista_restaurante, lista_cardapio):\n",
        "  \"\"\"\n",
        "    Permite a gestão de uma lista de restaurantes.\n",
        "    Oferece opções de listagem, adição, edição e remoção de restaurantes.\n",
        "\n",
        "   Parâmetros:\n",
        "        lista_restaurante(list): Uma lista de listas com o informações de\n",
        "                              vários restaurantes.\n",
        "\n",
        "  \"\"\"\n",
        "  pergunta = \"\"\"Qual ação deseja realizar?\n",
        "Para adicionar um restaurante          --- A\n",
        "Para remover um restaurante            --- R\n",
        "Para editar informações                --- E\n",
        "Para listar os restaurantes            --- L\n",
        "Para resumo dos restaurantes           --- T\n",
        "Para voltar a Gestão de Restaurantes   --- N\n",
        "\\t =>   \"\"\"\n",
        "  comando = validacao_respostas(pergunta, ['L', 'A', 'E', 'R', 'T','N'])\n",
        "\n",
        "  if comando == 'N':\n",
        "    return lista_restaurante, lista_cardapio\n",
        "    # sair do sistema\n",
        "\n",
        "  # Adicionando um novo restaurante\n",
        "  if comando == 'A':\n",
        "    lista1 = []\n",
        "\n",
        "    restaurante = input('Digite o nome do restaurante: ').title()\n",
        "    evitar_repeticao_restaurante(lista_restaurante, restaurante)\n",
        "    if evitar_repeticao_restaurante(lista_restaurante, restaurante) == True:\n",
        "      print('Esse restaurante já existe na lista')\n",
        "\n",
        "    else:\n",
        "      lista1.append(restaurante)\n",
        "      print('Digite as informações do endereço:')\n",
        "      endereco = formatacao_endereco()\n",
        "      lista1.append(endereco)\n",
        "      print('Digite as informações do telefone do restaurante: ')\n",
        "      telefone = formatacao_telefone()\n",
        "\n",
        "      lista1.append(telefone)\n",
        "      tempo_preparo_pedido = int(input('Digite tempo de preparo do pedido: '))\n",
        "      lista1.append(tempo_preparo_pedido)\n",
        "\n",
        "      lista_restaurante.append(lista1)\n",
        "\n",
        "  # Removendo um restaurante\n",
        "  elif comando == 'R':\n",
        "    if len(lista_restaurante) > 1: #o primeiro elemento é o cabeçalho\n",
        "      print('Lista dos nomes dos restaurantes')\n",
        "      remover = num_indice(lista_restaurante)\n",
        "      if remover.isnumeric():\n",
        "        lista_restaurante.pop(int(remover))\n",
        "    else:\n",
        "      print('\\nNão há restaurante para remover.\\n')\n",
        "\n",
        "  # Editando um restaurante\n",
        "  elif comando == 'E':\n",
        "    if len(lista_restaurante) > 1: #o primeiro elemento é o cabeçalho\n",
        "      print('Lista dos nomes dos restaurantes')\n",
        "      editar = num_indice(lista_restaurante)\n",
        "\n",
        "      if editar.isnumeric():\n",
        "        editar = int(editar)\n",
        "        pergunta = \"\"\"O que deseja editar?\n",
        "            Nome                       --- N\n",
        "            Endereço                   --- E\n",
        "            Telefone                   --- T\n",
        "            Tempo de Preparo do Pedido --- P\n",
        "            \\t =>   \"\"\"\n",
        "        pergunta_edicao = validacao_respostas(pergunta, ['N', 'E', 'T', 'P'])\n",
        "\n",
        "        if pergunta_edicao == 'N':\n",
        "          nome = input('Qual o novo nome? ').title()\n",
        "          lista_cardapio = att_nome_restaurante(lista_restaurante[editar][0], nome, lista_cardapio)\n",
        "          lista_restaurante[editar][0] = nome\n",
        "        elif pergunta_edicao == 'E':\n",
        "          endereco = input('Qual o novo endereço completos? ')\n",
        "          lista_restaurante[editar][1] = formatacao_endereco()\n",
        "        elif pergunta_edicao == 'T':\n",
        "          print('Qual o novo telefone? ')\n",
        "          lista_restaurante[editar][2] = formatacao_telefone()\n",
        "        elif pergunta_edicao == 'P':\n",
        "          tempo = input('Qual o novo tempo de preparo do pedido? ')\n",
        "          lista_restaurante[editar][3] = tempo\n",
        "        else:\n",
        "          print('Ação Inválida')\n",
        "    else:\n",
        "      print('\\nNão há restaurante para editar.\\n')\n",
        "\n",
        "\n",
        "  # Listar os restaurantes com todas as informações\n",
        "  elif comando == 'L':\n",
        "    if len(lista_restaurante) > 1: #o primeiro elemento é o cabeçalho\n",
        "      print('Lista de restaurantes:')\n",
        "      for restaurante_info in lista_restaurante[1:]:\n",
        "        nome, endereco, telefone, tempo_preparo = restaurante_info\n",
        "        print(f'Nome: {nome}')\n",
        "        print(f'Endereço: {endereco}')\n",
        "        print(f'Telefone: {telefone}')\n",
        "        print(f'Tempo de Preparo: {tempo_preparo} minutos')\n",
        "        print('Cardápio:')\n",
        "        restaurante = restaurante_info[0]\n",
        "        lista_cardapio_restaurante = cardapio_por_restaurante(lista_cardapio, restaurante)\n",
        "        if len(lista_cardapio_restaurante) <= 1: # primeira linha é cabeçalho\n",
        "          print(' -> Não há nenhum prato cadastrado neste restaurante')\n",
        "        else:\n",
        "          listar(lista_cardapio_restaurante)\n",
        "        print('')\n",
        "    else:\n",
        "      print('\\nNão há restaurante para listar.\\n')\n",
        "  elif comando == 'T':\n",
        "    if len(lista_restaurante) > 1: #o primeiro elemento é o cabeçalho\n",
        "      lista_resumida_restaurantes(lista_restaurante)\n",
        "    else:\n",
        "      print('\\nNão há restaurante para apresentar.\\n')\n",
        "  return lista_restaurante, lista_cardapio"
      ],
      "metadata": {
        "id": "261Tp1qP6O25"
      },
      "execution_count": 5,
      "outputs": []
    },
    {
      "cell_type": "markdown",
      "source": [
        "### Evitar repetição de restaurantes:"
      ],
      "metadata": {
        "id": "jx4nUOkx6weR"
      }
    },
    {
      "cell_type": "code",
      "source": [
        "def evitar_repeticao_restaurante(lista_restaurante, restaurante):\n",
        "  \"\"\"\n",
        "    Verifica se um restaurante já existe em uma lista e retorna True. Caso não\n",
        "    exista retorna False.\n",
        "\n",
        "    Parâmetros:\n",
        "        lista_restaurante(list): A lista de restaurantes a ser verificada.\n",
        "        restaurante(str): O restaurante a ser verificado na lista.\n",
        "    Retorno:\n",
        "        bool: Se o restaurante existe retorna True, caso contrário retorna False.\n",
        "\n",
        "  \"\"\"\n",
        "  restaurante_existente = []\n",
        "\n",
        "  for item in lista_restaurante:\n",
        "      if item[0] == restaurante:\n",
        "          restaurante_existente.append(restaurante)\n",
        "\n",
        "  if restaurante in restaurante_existente:\n",
        "    return True\n",
        "  else:\n",
        "    return False"
      ],
      "metadata": {
        "id": "AU9xu9xU67oD"
      },
      "execution_count": 6,
      "outputs": []
    },
    {
      "cell_type": "markdown",
      "source": [
        "### Formatação do Endereço:"
      ],
      "metadata": {
        "id": "hE2Me1fv9kmS"
      }
    },
    {
      "cell_type": "code",
      "source": [
        "# formatação do endereço digitado pelo usuário\n",
        "def formatacao_endereco():\n",
        "  \"\"\"\n",
        "    Padroniza as informações de endereço, pedindo para o usuário item a item do endereço\n",
        "\n",
        "    Parâmetros:\n",
        "        Não há parâmetros de entrada\n",
        "    Retorno:\n",
        "        str:endereco Retorna o endereço formatado\n",
        "  \"\"\"\n",
        "  rua    = input('Informe a rua:\\t\\t')\n",
        "  if rua[:3].upper() == 'RUA':\n",
        "    rua = rua[4:] # retira também o espaço\n",
        "  elif rua[:3].upper() == 'R. ':\n",
        "    rua = rua[3:]\n",
        "  numero = input('Informe o número:\\t')\n",
        "  if numero[:7].upper() == 'NÚMERO ' or numero[:7].upper() == 'NUMERO ':\n",
        "    numero = numero[7:]\n",
        "  elif numero[:5].upper() == 'NUM. ':\n",
        "    numero = numero[5:]\n",
        "  elif numero[:3].upper() == 'N. ':\n",
        "    numero = numero[3:]\n",
        "  bairro = input('Informe o bairro:\\t').title()\n",
        "  cidade = input('Informe a cidade:\\t').title()\n",
        "  uf     = input('Informe a sigla da unidade federativa:\\t').upper()\n",
        "\n",
        "  endereco = f'Rua {rua}, número {numero}, {bairro}, {cidade}-{uf}'\n",
        "  return endereco"
      ],
      "metadata": {
        "id": "l0cFsxqp9o4p"
      },
      "execution_count": 1,
      "outputs": []
    },
    {
      "cell_type": "markdown",
      "source": [
        "### Formatação do telefone:"
      ],
      "metadata": {
        "id": "TWjBuab1BeRp"
      }
    },
    {
      "cell_type": "code",
      "source": [
        "def formatacao_telefone():\n",
        "  \"\"\"\n",
        "    Padroniza as informações de telefone,\n",
        "    pedindo ao usuário separadamente o DDD e o número do telefone\n",
        "\n",
        "    Parâmetros:\n",
        "        Não há parâmetros de entrada\n",
        "    Retorno:\n",
        "        str: telefone no formato (00) 0000-0000 ou (00) 00000-0000\n",
        "  \"\"\"\n",
        "  ddd = input('Informe o DDD (apenas números):\\t')\n",
        "  while len(ddd) != 2:\n",
        "    ddd = input('Resposta inválida.\\nInforme DDD válido:')\n",
        "\n",
        "  numero = input('Informe o número (apenas números):\\t')\n",
        "  while len(numero) not in (8, 9):\n",
        "    numero = input('Resposta inválida.\\nInforme número de telefone válido:')\n",
        "\n",
        "  telefone = f'({ddd}) {numero[:4]}-{numero[4:]}'\n",
        "  return telefone"
      ],
      "metadata": {
        "id": "61BxV_rLpgvS"
      },
      "execution_count": 19,
      "outputs": []
    },
    {
      "cell_type": "markdown",
      "source": [
        "### Cardápio por restaurante:"
      ],
      "metadata": {
        "id": "io8kBkPcDbYA"
      }
    },
    {
      "cell_type": "code",
      "source": [
        "def cardapio_por_restaurante(lista_cardapio,restaurante):\n",
        "  \"\"\"\n",
        "    Procura na lista_cardapio por restaurante inserido e retorna uma lista\n",
        "    com os itens de um restaurante específico.\n",
        "\n",
        "    Parâmetros:\n",
        "        lista_cardapio(list): Uma lista de listas, onde cada sublista representa\n",
        "                              um item do cardápio.\n",
        "        restaurante(str): O nome do restaurante que você deseja filtrar.\n",
        "\n",
        "    Retorno:\n",
        "        list: Uma lista com os itens do cardápio do restaurante especificado\n",
        "              e cabeçalho.\n",
        "  \"\"\"\n",
        "  lista_aux_cardapio = list()\n",
        "  lista_aux_cardapio.append(lista_cardapio[0][1:]) #cabeçalho\n",
        "  for i in range(len(lista_cardapio)):\n",
        "    if lista_cardapio[i][0] == restaurante:\n",
        "      lista_aux_cardapio.append(lista_cardapio[i][1:])\n",
        "  return (lista_aux_cardapio)"
      ],
      "metadata": {
        "id": "Z_Bd5JdpDkg3"
      },
      "execution_count": 8,
      "outputs": []
    },
    {
      "cell_type": "markdown",
      "source": [
        "### Número do Índice:"
      ],
      "metadata": {
        "id": "IL4UYecxEKFy"
      }
    },
    {
      "cell_type": "code",
      "source": [
        "def num_indice(lista):\n",
        "  \"\"\"\n",
        "    Exibe a lista de elementos na forma de uma lista numerada e solicita ao\n",
        "    usuário um índice.\n",
        "    Verifica se o índice fornecido pelo usuário é válido ou não.\n",
        "\n",
        "    Parâmetros:\n",
        "        lista(list): A lista de elementos que será exibida e usada para\n",
        "                      verificar o índice.\n",
        "\n",
        "    Retorno:\n",
        "        str: Retorna a string \"invalido\"\n",
        "    or  int: Retorna o índice fornecido pelo usuário se for válido.\n",
        "  \"\"\"\n",
        "  listar(lista)\n",
        "  indice = input(\"\"\"Informe o índice: \\t\"\"\")\n",
        "  if indice.isnumeric():\n",
        "    indice = int(indice)\n",
        "    if 1 <= indice <= len(lista):\n",
        "      return str(indice)\n",
        "    else:\n",
        "      print(\"Referência de restaurante inválido\")\n",
        "  else:\n",
        "    print(\"Ação Inválida\")\n",
        "  return 'invalido'"
      ],
      "metadata": {
        "id": "owt_-DazESLh"
      },
      "execution_count": 9,
      "outputs": []
    },
    {
      "cell_type": "markdown",
      "source": [
        "### Listagem com índice:"
      ],
      "metadata": {
        "id": "tCHLNLOJE-Xf"
      }
    },
    {
      "cell_type": "code",
      "source": [
        "def listar(lista):\n",
        "  \"\"\"\n",
        "    Lista os elementos de uma lista. A função recebe uma lista de elementos e\n",
        "    imprime cada elemento junto com um índice numérico na forma de uma\n",
        "    lista numerada.\n",
        "\n",
        "    Parâmetros:\n",
        "        lista(list): Lista de elementos a ser listada.\n",
        "  \"\"\"\n",
        "  print(f'  \\t {lista[0][0]}')\n",
        "  for i in range(1,len(lista)):\n",
        "    print(f'{i}\\t {lista[i][0]}')"
      ],
      "metadata": {
        "id": "P_UZpYOJE9Rv"
      },
      "execution_count": 10,
      "outputs": []
    },
    {
      "cell_type": "markdown",
      "source": [
        "### Atualização do nome do restaurante na lista de cardápios:"
      ],
      "metadata": {
        "id": "7wBJLNyXEmAf"
      }
    },
    {
      "cell_type": "code",
      "source": [
        "def att_nome_restaurante(nome_antigo, nome_novo, lista_cardapio):\n",
        "  \"\"\"\n",
        "  A função é chamada no momento de edição do nome do restaurante na gestão de restaurantes\n",
        "  Ela realiza a troca do nome na lista de cardápio para ocorrer o acordo entre as listas\n",
        "  Parâmetros de entrada:\n",
        "  - nome_antigo (str): O nome anterior a edição\n",
        "  - nome_novo (str): O nome após a edição\n",
        "  - lista_cardapio(list): Lista de listas contendo os pratos de todos os restaurantes\n",
        "\n",
        "  \"\"\"\n",
        "  for i in range(len(lista_cardapio)):\n",
        "    if lista_cardapio[i][0] == nome_antigo:\n",
        "      lista_cardapio[i][0] = nome_novo\n",
        "  return lista_cardapio"
      ],
      "metadata": {
        "id": "qH7jKugREx7w"
      },
      "execution_count": 11,
      "outputs": []
    },
    {
      "cell_type": "markdown",
      "source": [
        "### Tabela com as informações resumidas dos restaurantes:"
      ],
      "metadata": {
        "id": "Psdm1jVsFwkB"
      }
    },
    {
      "cell_type": "code",
      "source": [
        "def lista_resumida_restaurantes(lista_restaurante):\n",
        "  \"\"\"\n",
        "Listagem resumida dos dados dos restaurantes.\n",
        "há limitação de 16 caracteres para os nomes e 26 para o endereço para que se possa\n",
        "ver as informações em formato de tabela\n",
        "  \"\"\"\n",
        "  string_16_espacos = '               '\n",
        "  string_26_espacos = '                         '\n",
        "  print(lista_restaurante[0][0],'           |',\n",
        "        lista_restaurante[0][1],'                 |',\n",
        "        lista_restaurante[0][2],'      |' ,\n",
        "        lista_restaurante[0][3][:16], sep='')\n",
        "  print('-------------------------------------------------------------------------')\n",
        "  for restaurante_info in lista_restaurante[1:]:\n",
        "        nome, endereco, telefone, tempo_preparo = restaurante_info\n",
        "\n",
        "        if len(nome) > len(string_16_espacos):\n",
        "          nome = f'{nome[:12]}...'\n",
        "        else:\n",
        "          nome = f'{nome}{string_16_espacos[len(nome):]}'\n",
        "        print(nome,end='|')\n",
        "        if len(endereco) > len(string_26_espacos):\n",
        "          endereco = f'{endereco[:22]}...'\n",
        "        else:\n",
        "          endereco = f'{endereco}{string_26_espacos[len(endereco):]}'\n",
        "        print(endereco,end='|')\n",
        "        print(telefone, end='|')\n",
        "        print(tempo_preparo, 'minutos', end='\\n')\n",
        "  print('\\n')"
      ],
      "metadata": {
        "id": "v6zM2-kNF5WI"
      },
      "execution_count": 12,
      "outputs": []
    },
    {
      "cell_type": "markdown",
      "source": [
        "### Função da Gestão de Cardápio:"
      ],
      "metadata": {
        "id": "5TptulCsGQFP"
      }
    },
    {
      "cell_type": "code",
      "source": [
        "def gestao_cardapio(restaurante, lista_cardapio):\n",
        "    \"\"\"\n",
        "    Permite a gestão de um cardápio de um restaurante.\n",
        "    Oferece opções de listagem, adição, edição e remoção de itens do cardápio.\n",
        "\n",
        "    Parâmetros:\n",
        "        restaurante(str): O nome do restaurante para o qual você deseja gerenciar o cardápio.\n",
        "        lista_cardapio(list): Uma lista de listas com o cardápio de vários restaurantes.\n",
        "    \"\"\"\n",
        "    print('Foi selecionado o seguinte restaurante:\\n-', restaurante)\n",
        "\n",
        "    pergunta = \"\"\"Qual ação deseja realizar?\n",
        "Para adicionar um item do cardápio     --- A\n",
        "Para remover um item do cardápio       --- R\n",
        "Para editar informações                --- E\n",
        "Para listar o cardápio do restaurante  --- L\n",
        "Para voltar a Gestão de Restaurantes   --- N\n",
        "\\t =>   \"\"\"\n",
        "\n",
        "    comando = validacao_respostas(pergunta, ['L', 'A', 'E', 'R', 'N'])\n",
        "\n",
        "    if comando == 'N':\n",
        "        return\n",
        "\n",
        "    # adicionando um novo prato ao cardápio\n",
        "    if comando == 'A':\n",
        "        lista1 = []  # variável auxiliar para lista de restaurantes\n",
        "        lista1.append(restaurante)  # já sabe-se o nome do restaurante\n",
        "        nome_prato = input('Digite o nome do prato: ').title()\n",
        "        if evitar_repeticao_pratos(lista_cardapio, nome_prato) == True:\n",
        "          print('Esse prato já existe na lista')\n",
        "\n",
        "        else:\n",
        "          lista1.append(nome_prato)\n",
        "          preco_prato = float(input('Digite o preço do prato:  \\n Atenção, não use vírgula(,) e sim ponto(.)  '))\n",
        "          lista1.append(preco_prato)\n",
        "          lista_cardapio.append(lista1)\n",
        "\n",
        "    # Removendo um prato\n",
        "    elif comando == 'R':\n",
        "        print('Lista dos pratos do restaurante', restaurante)\n",
        "        lista_cardapio_restaurante = cardapio_por_restaurante(lista_cardapio, restaurante)\n",
        "        if len(lista_cardapio_restaurante) <= 1:\n",
        "            print(' -> Não há nenhum prato cadastrado no restaurante', restaurante)\n",
        "        else:\n",
        "            indice_do_prato = int(num_indice(lista_cardapio_restaurante))\n",
        "            prato = lista_cardapio_restaurante[indice_do_prato][0]\n",
        "            indice_rest_prato = indice_prato(lista_cardapio, restaurante, prato)\n",
        "            lista_cardapio.pop(indice_rest_prato)\n",
        "\n",
        "    # Editando um prato\n",
        "    elif comando == 'E':\n",
        "        print('Lista dos pratos do restaurante', restaurante)\n",
        "        lista_cardapio_restaurante = cardapio_por_restaurante(lista_cardapio, restaurante)\n",
        "        if len(lista_cardapio_restaurante) <= 1:\n",
        "            print(' -> Não há nenhum prato cadastrado no restaurante', restaurante)\n",
        "        else:\n",
        "            indice_do_prato = int(num_indice(lista_cardapio_restaurante))\n",
        "            prato = lista_cardapio_restaurante[indice_do_prato][0]\n",
        "            indice_rest_prato = indice_prato(lista_cardapio, restaurante, prato)\n",
        "            pergunta = input(\"\"\"O que deseja editar?\n",
        "                Nome do Prato              --- N\n",
        "                Preço                      --- P\n",
        "                \"\"\").upper()[0]\n",
        "\n",
        "            if pergunta == \"N\":\n",
        "                nome = input('Qual o novo nome? ').title()\n",
        "                lista_cardapio[indice_rest_prato][1] = nome\n",
        "            elif pergunta == \"P\":\n",
        "                preco_prato = input('Qual o novo preço?  \\n Atenção, use ponto(.) e não (,)  ')\n",
        "                lista_cardapio[indice_rest_prato][2] = float(preco_prato)  # Converte para float\n",
        "            else:\n",
        "                print('Função inválida')\n",
        "\n",
        "    # Listar os pratos do cardápio com nomes e preços\n",
        "    elif comando == 'L':\n",
        "\n",
        "        lista_cardapio_restaurante = cardapio_por_restaurante(lista_cardapio, restaurante)\n",
        "        if len(lista_cardapio_restaurante) == 1:\n",
        "            print(f' -> Não há nenhum prato cadastrado no restaurante {restaurante}.')\n",
        "        else:\n",
        "          print(f'Cardápio do restaurante {restaurante}:')\n",
        "          for i in range(1, len(lista_cardapio_restaurante)):\n",
        "            print(f'{i} - Prato: {lista_cardapio_restaurante[i][0]}, Preço: R$ {lista_cardapio_restaurante[i][1]:.2f}')\n"
      ],
      "metadata": {
        "id": "RGHqWUkfGZhm"
      },
      "execution_count": 13,
      "outputs": []
    },
    {
      "cell_type": "markdown",
      "source": [
        "### Verificar a repetição de pratos:"
      ],
      "metadata": {
        "id": "zdawFhqsHDZI"
      }
    },
    {
      "cell_type": "code",
      "source": [
        "# Evita repetições de pratos no cardapio\n",
        "def evitar_repeticao_pratos(lista_cardapio, nome_prato):\n",
        "  \"\"\"\n",
        "    Verifica se o prato já existe na lista de cardapio e retorna True. Caso não\n",
        "    exista retorna False.\n",
        "\n",
        "    Parâmetros:\n",
        "        lista_cardapio(list): A lista itens a ser verificada.\n",
        "        nome_prato(str): O prato a ser verificado na lista.\n",
        "    Retorno:\n",
        "        bool: Se o restaurante existe retorna True, caso contrário retorna False.\n",
        "\n",
        "  \"\"\"\n",
        "  prato_existente = []\n",
        "\n",
        "  for item in lista_cardapio:\n",
        "      if item[1] == nome_prato:\n",
        "          prato_existente.append(nome_prato)\n",
        "\n",
        "  if nome_prato in prato_existente:\n",
        "    return True\n",
        "  else:\n",
        "    return False"
      ],
      "metadata": {
        "id": "u8ncfl5OHJmv"
      },
      "execution_count": 14,
      "outputs": []
    },
    {
      "cell_type": "markdown",
      "source": [
        "Índice do prato na listagem geral de cardápios"
      ],
      "metadata": {
        "id": "u4Pj-suxHugJ"
      }
    },
    {
      "cell_type": "code",
      "source": [
        "def indice_prato(lista_cardapio,restaurante, prato):\n",
        "  \"\"\"\n",
        "    Procura na lista de cardápio o restaurante e o prato inseridos e retorna\n",
        "    o índice da primeira ocorrência do prato nesse restaurante.\n",
        "\n",
        "    Parâmetros:\n",
        "        lista_cardapio(list): Uma lista de listas, onde cada sublista representa\n",
        "                              um item do cardápio.\n",
        "        restaurante(str): O nome do restaurante em que você deseja procurar o\n",
        "                          prato.\n",
        "        prato(str): O nome do prato que você deseja encontrar.\n",
        "\n",
        "    Retorno:\n",
        "        int: O índice da primeira ocorrência do prato no cardápio do restaurante\n",
        "             especificado.\n",
        "  \"\"\"\n",
        "  for i in range(len(lista_cardapio)):\n",
        "    if lista_cardapio[i][0] == restaurante and lista_cardapio[i][1] == prato:\n",
        "      return (i)"
      ],
      "metadata": {
        "id": "qwbRTZSDwkQY"
      },
      "execution_count": 15,
      "outputs": []
    },
    {
      "cell_type": "markdown",
      "source": [
        "## Chamamento da função principal"
      ],
      "metadata": {
        "id": "y5JolMCRIrde"
      }
    },
    {
      "cell_type": "code",
      "source": [
        "main()"
      ],
      "metadata": {
        "id": "PrDbDYqI9RTI",
        "outputId": "2679b76b-a0d4-4a76-a42b-623b32a1a469",
        "colab": {
          "base_uri": "https://localhost:8080/"
        }
      },
      "execution_count": 24,
      "outputs": [
        {
          "output_type": "stream",
          "name": "stdout",
          "text": [
            "...Iniciando Sistema de Gestão de Restaurantes\n",
            "Por aqui você pode gerir informações sobre restaurantes e cardápios\n",
            "Deseja iniciar o sistema?[S]/[N]\ts\n",
            "\n",
            "    Próxima Ação:\n",
            "      1 - Para abrir a Gestão de Restaurantes\n",
            "      2 - Para abrir a Gestão de Cardápios\n",
            "      3 - Sair do Sistema \n",
            "\t =>   1\n",
            "- - - - -> Gestão de Restaurantes <- - - - -\n",
            "Qual ação deseja realizar?\n",
            "Para adicionar um restaurante          --- A\n",
            "Para remover um restaurante            --- R\n",
            "Para editar informações                --- E\n",
            "Para listar os restaurantes            --- L\n",
            "Para resumo dos restaurantes           --- T\n",
            "Para voltar a Gestão de Restaurantes   --- N\n",
            "\t =>   a\n",
            "Digite o nome do restaurante: red\n",
            "Digite as informações do endereço:\n",
            "Informe a rua:\t\trree\n",
            "Informe o número:\t55\n",
            "Informe o bairro:\tfrd\n",
            "Informe a cidade:\tew\n",
            "Informe a sigla da unidade federativa:\tws\n",
            "Digite as informações do telefone do restaurante: \n",
            "Informe o DDD (apenas números):\t54\n",
            "Informe o número (apenas números):\t123456789\n",
            "Digite tempo de preparo do pedido: 55\n",
            "Deseja continuar na Gestão de Restaurante? [S]/[N]\ts\n",
            "Qual ação deseja realizar?\n",
            "Para adicionar um restaurante          --- A\n",
            "Para remover um restaurante            --- R\n",
            "Para editar informações                --- E\n",
            "Para listar os restaurantes            --- L\n",
            "Para resumo dos restaurantes           --- T\n",
            "Para voltar a Gestão de Restaurantes   --- N\n",
            "\t =>   l\n",
            "Lista de restaurantes:\n",
            "Nome: Red\n",
            "Endereço: Rua rree, número 55, Frd, Ew-WS\n",
            "Telefone: (54) 1234-56789\n",
            "Tempo de Preparo: 55 minutos\n",
            "Cardápio:\n",
            " -> Não há nenhum prato cadastrado neste restaurante\n",
            "\n",
            "Deseja continuar na Gestão de Restaurante? [S]/[N]\tn\n",
            "Deseja continuar no Sistema de Gerenciamento? [S]/[N]\ts\n",
            "\n",
            "    Próxima Ação:\n",
            "      1 - Para abrir a Gestão de Restaurantes\n",
            "      2 - Para abrir a Gestão de Cardápios\n",
            "      3 - Sair do Sistema \n",
            "\t =>   2\n",
            "- - - - -> Gestão de Cardápios <- - - - -\n",
            "Informe o restaurante:\t\n",
            "  \t Nome\n",
            "1\t Red\n",
            "Informe o índice: \t1\n",
            "Foi selecionado o seguinte restaurante:\n",
            "- Red\n",
            "Qual ação deseja realizar?\n",
            "Para adicionar um item do cardápio     --- A\n",
            "Para remover um item do cardápio       --- R\n",
            "Para editar informações                --- E\n",
            "Para listar o cardápio do restaurante  --- L\n",
            "Para voltar a Gestão de Restaurantes   --- N\n",
            "\t =>   a\n",
            "Digite o nome do prato: ttt\n",
            "Digite o preço do prato:  \n",
            " Atenção, não use vírgula(,) e sim ponto(.)  90\n",
            "Deseja continuar na Gestão de Cardápios? [S]/[N]\ts\n",
            "Informe o restaurante:\t\n",
            "  \t Nome\n",
            "1\t Red\n",
            "Informe o índice: \t1\n",
            "Foi selecionado o seguinte restaurante:\n",
            "- Red\n",
            "Qual ação deseja realizar?\n",
            "Para adicionar um item do cardápio     --- A\n",
            "Para remover um item do cardápio       --- R\n",
            "Para editar informações                --- E\n",
            "Para listar o cardápio do restaurante  --- L\n",
            "Para voltar a Gestão de Restaurantes   --- N\n",
            "\t =>   a\n",
            "Digite o nome do prato: aaa\n",
            "Digite o preço do prato:  \n",
            " Atenção, não use vírgula(,) e sim ponto(.)  55\n",
            "Deseja continuar na Gestão de Cardápios? [S]/[N]\ts\n",
            "Informe o restaurante:\t\n",
            "  \t Nome\n",
            "1\t Red\n",
            "Informe o índice: \t1\n",
            "Foi selecionado o seguinte restaurante:\n",
            "- Red\n",
            "Qual ação deseja realizar?\n",
            "Para adicionar um item do cardápio     --- A\n",
            "Para remover um item do cardápio       --- R\n",
            "Para editar informações                --- E\n",
            "Para listar o cardápio do restaurante  --- L\n",
            "Para voltar a Gestão de Restaurantes   --- N\n",
            "\t =>   l\n",
            "Cardápio do restaurante Red:\n",
            "1 - Prato: Ttt, Preço: R$ 90.00\n",
            "2 - Prato: Aaa, Preço: R$ 55.00\n",
            "Deseja continuar na Gestão de Cardápios? [S]/[N]\tn\n",
            "Deseja continuar no Sistema de Gerenciamento? [S]/[N]\ts\n",
            "\n",
            "    Próxima Ação:\n",
            "      1 - Para abrir a Gestão de Restaurantes\n",
            "      2 - Para abrir a Gestão de Cardápios\n",
            "      3 - Sair do Sistema \n",
            "\t =>   1\n",
            "- - - - -> Gestão de Restaurantes <- - - - -\n",
            "Qual ação deseja realizar?\n",
            "Para adicionar um restaurante          --- A\n",
            "Para remover um restaurante            --- R\n",
            "Para editar informações                --- E\n",
            "Para listar os restaurantes            --- L\n",
            "Para resumo dos restaurantes           --- T\n",
            "Para voltar a Gestão de Restaurantes   --- N\n",
            "\t =>   e\n",
            "Lista dos nomes dos restaurantes\n",
            "  \t Nome\n",
            "1\t Red\n",
            "Informe o índice: \t1\n",
            "O que deseja editar?\n",
            "            Nome                       --- N\n",
            "            Endereço                   --- E\n",
            "            Telefone                   --- T\n",
            "            Tempo de Preparo do Pedido --- P\n",
            "            \t =>   n\n",
            "Qual o novo nome? pink\n",
            "Deseja continuar na Gestão de Restaurante? [S]/[N]\ts\n",
            "Qual ação deseja realizar?\n",
            "Para adicionar um restaurante          --- A\n",
            "Para remover um restaurante            --- R\n",
            "Para editar informações                --- E\n",
            "Para listar os restaurantes            --- L\n",
            "Para resumo dos restaurantes           --- T\n",
            "Para voltar a Gestão de Restaurantes   --- N\n",
            "\t =>   t\n",
            "Nome           |Endereço                 |Telefone      |Tempo de Entrega\n",
            "-------------------------------------------------------------------------\n",
            "Pink           |Rua rree, número 55, F...|(54) 1234-56789|55 minutos\n",
            "\n",
            "\n",
            "Deseja continuar na Gestão de Restaurante? [S]/[N]\tn\n",
            "Deseja continuar no Sistema de Gerenciamento? [S]/[N]\ts\n",
            "\n",
            "    Próxima Ação:\n",
            "      1 - Para abrir a Gestão de Restaurantes\n",
            "      2 - Para abrir a Gestão de Cardápios\n",
            "      3 - Sair do Sistema \n",
            "\t =>   2\n",
            "- - - - -> Gestão de Cardápios <- - - - -\n",
            "Informe o restaurante:\t\n",
            "  \t Nome\n",
            "1\t Pink\n",
            "Informe o índice: \t1\n",
            "Foi selecionado o seguinte restaurante:\n",
            "- Pink\n",
            "Qual ação deseja realizar?\n",
            "Para adicionar um item do cardápio     --- A\n",
            "Para remover um item do cardápio       --- R\n",
            "Para editar informações                --- E\n",
            "Para listar o cardápio do restaurante  --- L\n",
            "Para voltar a Gestão de Restaurantes   --- N\n",
            "\t =>   l\n",
            "Cardápio do restaurante Pink:\n",
            "1 - Prato: Ttt, Preço: R$ 90.00\n",
            "2 - Prato: Aaa, Preço: R$ 55.00\n",
            "Deseja continuar na Gestão de Cardápios? [S]/[N]\tn\n",
            "Deseja continuar no Sistema de Gerenciamento? [S]/[N]\tn\n",
            "\n",
            "\n",
            "Sistema Encerrado.\n"
          ]
        }
      ]
    }
  ]
}